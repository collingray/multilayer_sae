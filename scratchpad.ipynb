{
 "cells": [
  {
   "metadata": {
    "ExecuteTime": {
     "end_time": "2024-05-08T07:38:22.861145Z",
     "start_time": "2024-05-08T07:38:22.858803Z"
    }
   },
   "cell_type": "code",
   "source": [
    "import torch\n",
    "from tqdm.notebook import tqdm\n",
    "import gc\n",
    "\n",
    "from aelib import ActivationsBuffer, ActivationsBufferConfig\n",
    "from aelib.multilayer import AutoEncoderMultiLayerConfig, AutoEncoderMultiLayerTrainer, \\\n",
    "    AutoEncoderMultiLayerTrainerConfig\n",
    "from aelib.sweeper import AutoEncoderSweeper, AutoEncoderSweeperConfig"
   ],
   "id": "3aa144a815a78741",
   "outputs": [],
   "execution_count": 10
  },
  {
   "metadata": {
    "ExecuteTime": {
     "end_time": "2024-05-08T02:20:35.950447Z",
     "start_time": "2024-05-08T02:20:35.941117Z"
    }
   },
   "cell_type": "code",
   "source": [
    "version = 1\n",
    "expansion_factor = 32\n",
    "wb_project = \"multilayer_sae\"\n",
    "wb_entity = \"collingray\"\n",
    "wb_name = f\"pythia_wikitext_{expansion_factor}x_v{version}\"\n",
    "wb_group = \"pythia_wikitext\"\n",
    "\n",
    "model_name = \"EleutherAI/pythia-70m\"\n",
    "n_layers = 6\n",
    "n_dim = 512\n",
    "dataset_name = \"wikitext\"\n",
    "dataset_config = \"wikitext-103-v1\"\n",
    "dataset_split = \"train\""
   ],
   "id": "1e089cc1a83295d6",
   "outputs": [],
   "execution_count": 2
  },
  {
   "metadata": {
    "ExecuteTime": {
     "end_time": "2024-05-08T02:20:36.873586Z",
     "start_time": "2024-05-08T02:20:36.852815Z"
    }
   },
   "cell_type": "code",
   "source": [
    "seed = 42\n",
    "torch.manual_seed(seed)"
   ],
   "id": "df61e469d8c4f2c2",
   "outputs": [
    {
     "data": {
      "text/plain": [
       "<torch._C.Generator at 0x7d65641b2690>"
      ]
     },
     "execution_count": 3,
     "metadata": {},
     "output_type": "execute_result"
    }
   ],
   "execution_count": 3
  },
  {
   "metadata": {
    "ExecuteTime": {
     "end_time": "2024-05-08T02:20:37.131660Z",
     "start_time": "2024-05-08T02:20:37.124907Z"
    }
   },
   "cell_type": "code",
   "source": [
    "%env TOKENIZERS_PARALLELISM=false\n",
    "%env WANDB_SILENT=true"
   ],
   "id": "7422dfe564759618",
   "outputs": [
    {
     "name": "stdout",
     "output_type": "stream",
     "text": [
      "env: TOKENIZERS_PARALLELISM=false\n",
      "env: WANDB_SILENT=true\n"
     ]
    }
   ],
   "execution_count": 4
  },
  {
   "metadata": {
    "ExecuteTime": {
     "end_time": "2024-05-08T02:21:12.934024Z",
     "start_time": "2024-05-08T02:20:37.453107Z"
    }
   },
   "cell_type": "code",
   "source": [
    "layers = list(range(n_layers))\n",
    "\n",
    "# Buffer to easily generate/store activations from the model, automatically refills the buffer when it drops below a certain size,\n",
    "# and then shuffles it to avoid activations from the same sequence being used together\n",
    "buffer_cfg = ActivationsBufferConfig(\n",
    "    model_name=model_name,\n",
    "    layers=layers,\n",
    "    dataset_name=dataset_name,\n",
    "    dataset_config=dataset_config,\n",
    "    dataset_split=dataset_split,\n",
    "    act_site=\"hook_mlp_out\",\n",
    "    device=\"cuda\",\n",
    "    buffer_device=\"cpu\",\n",
    "    buffer_size=2 ** 21,\n",
    "    min_capacity=2 ** 17,\n",
    "    model_batch_size=2048,\n",
    "    samples_per_seq=256,\n",
    "    max_seq_length=256,\n",
    "    seed=seed\n",
    ")\n",
    "\n",
    "buffer = ActivationsBuffer(buffer_cfg)"
   ],
   "id": "b3b435a6bd005d4b",
   "outputs": [
    {
     "name": "stderr",
     "output_type": "stream",
     "text": [
      "Special tokens have been added in the vocabulary, make sure the associated word embeddings are fine-tuned or trained.\n"
     ]
    },
    {
     "name": "stdout",
     "output_type": "stream",
     "text": [
      "Loaded pretrained model EleutherAI/pythia-70m into HookedTransformer\n"
     ]
    }
   ],
   "execution_count": 5
  },
  {
   "metadata": {
    "ExecuteTime": {
     "end_time": "2024-05-08T02:21:29.000067Z",
     "start_time": "2024-05-08T02:21:12.935825Z"
    }
   },
   "cell_type": "code",
   "source": [
    "total_activations = int(5e8)\n",
    "batch_size = 512\n",
    "\n",
    "autoencoder_cfg = AutoEncoderMultiLayerConfig(\n",
    "    n_dim=n_dim,\n",
    "    m_dim=n_dim * expansion_factor,\n",
    "    act_norms=n_layers,\n",
    "    act_renorm_type=\"none\",\n",
    "    record_data=True,\n",
    "    save_dir=\"./weights\",\n",
    "    seed=seed,\n",
    ")\n",
    "\n",
    "autoencoder_trainer_cfg = AutoEncoderMultiLayerTrainerConfig(\n",
    "    lr=4e-3,\n",
    "    beta1=0.9,\n",
    "    beta2=0.999,\n",
    "    l1_weight=1,\n",
    "    total_steps=total_activations // batch_size,\n",
    "    lr_warmup_pct=0,\n",
    "    lr_decay_pct=0.2,\n",
    "    l1_warmup_pct=None,\n",
    "    steps_per_report=2 ** 20 // batch_size,\n",
    "    decoder_norm_scale=True,\n",
    "    wb_project=wb_project,\n",
    "    wb_entity=wb_entity,\n",
    "    wb_name=wb_name,\n",
    "    wb_group=wb_group,\n",
    "    wb_config=autoencoder_cfg.__dict__,\n",
    ")\n",
    "\n",
    "autoencoder_trainer = AutoEncoderMultiLayerTrainer(autoencoder_cfg, autoencoder_trainer_cfg)"
   ],
   "id": "65c80b193415898a",
   "outputs": [],
   "execution_count": 6
  },
  {
   "metadata": {
    "ExecuteTime": {
     "end_time": "2024-05-08T02:21:29.003978Z",
     "start_time": "2024-05-08T02:21:29.001083Z"
    }
   },
   "cell_type": "code",
   "source": "step = 0",
   "id": "1e70e73386b5aaf4",
   "outputs": [],
   "execution_count": 7
  },
  {
   "metadata": {
    "ExecuteTime": {
     "start_time": "2024-05-08T02:21:29.004977Z"
    }
   },
   "cell_type": "code",
   "source": [
    "try:\n",
    "    for s in tqdm(range(total_activations // batch_size), initial=step, total=total_activations // batch_size):\n",
    "        acts = buffer.next(batch=batch_size).to(autoencoder_cfg.device, dtype=autoencoder_cfg.dtype)\n",
    "        autoencoder_trainer.train_on(acts, buffer)\n",
    "finally:\n",
    "    step = s    "
   ],
   "id": "927262f0a654c518",
   "outputs": [
    {
     "data": {
      "text/plain": [
       "  0%|          | 0/976562 [00:00<?, ?it/s]"
      ],
      "application/vnd.jupyter.widget-view+json": {
       "version_major": 2,
       "version_minor": 0,
       "model_id": "8a69201684e742348994a9bcd4916c5d"
      }
     },
     "metadata": {},
     "output_type": "display_data"
    }
   ],
   "execution_count": null
  },
  {
   "metadata": {},
   "cell_type": "code",
   "source": [
    "sweeper_cfg = AutoEncoderSweeperConfig(\n",
    "    n_dim=n_dim,\n",
    "    m_dim=n_dim * expansion_factor,\n",
    "    lr=4e-3,\n",
    "    beta1=0.9,\n",
    "    beta2=0.999,\n",
    "    l1_weight=1,\n",
    "    lr_warmup_pct=0,\n",
    "    lr_decay_pct=0.2,\n",
    "    l1_warmup_pct=None,\n",
    "    \n",
    "    act_norms=n_layers,\n",
    "    act_renorm_type=\"none\","
   ],
   "id": "initial_id",
   "outputs": [],
   "execution_count": null
  },
  {
   "metadata": {
    "ExecuteTime": {
     "end_time": "2024-05-07T19:47:33.513578Z",
     "start_time": "2024-05-07T19:47:33.496553Z"
    }
   },
   "cell_type": "code",
   "source": "",
   "id": "87e57bc15cf8ea01",
   "outputs": [
    {
     "ename": "NameError",
     "evalue": "name 's' is not defined",
     "output_type": "error",
     "traceback": [
      "\u001B[0;31m---------------------------------------------------------------------------\u001B[0m",
      "\u001B[0;31mNameError\u001B[0m                                 Traceback (most recent call last)",
      "Cell \u001B[0;32mIn[8], line 1\u001B[0m\n\u001B[0;32m----> 1\u001B[0m s\n",
      "\u001B[0;31mNameError\u001B[0m: name 's' is not defined"
     ]
    }
   ],
   "execution_count": 8
  },
  {
   "metadata": {},
   "cell_type": "code",
   "outputs": [],
   "execution_count": null,
   "source": "",
   "id": "73e7bd49597b7b99"
  }
 ],
 "metadata": {
  "kernelspec": {
   "display_name": "Python 3",
   "language": "python",
   "name": "python3"
  },
  "language_info": {
   "codemirror_mode": {
    "name": "ipython",
    "version": 2
   },
   "file_extension": ".py",
   "mimetype": "text/x-python",
   "name": "python",
   "nbconvert_exporter": "python",
   "pygments_lexer": "ipython2",
   "version": "2.7.6"
  }
 },
 "nbformat": 4,
 "nbformat_minor": 5
}
